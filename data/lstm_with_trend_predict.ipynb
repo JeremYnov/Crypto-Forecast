{
 "cells": [
  {
   "cell_type": "code",
   "execution_count": 68,
   "id": "0cfd7f4f",
   "metadata": {},
   "outputs": [],
   "source": [
    "#install numpy, pandas, matplolib, tensorflow, sklearn, pandas_datareader, seaborn\n",
    "import numpy as np\n",
    "import matplotlib.pyplot as plt\n",
    "import pandas as pd\n",
    "import datetime as dt\n",
    "from time import sleep\n",
    "import os\n",
    "\n",
    "from sklearn.preprocessing import MinMaxScaler\n",
    "from tensorflow.keras.layers import Dense, Dropout, LSTM\n",
    "from tensorflow.keras.models import Sequential\n",
    "\n",
    "from sklearn.model_selection import train_test_split\n",
    "from sklearn.ensemble import RandomForestClassifier\n",
    "from sklearn.metrics import confusion_matrix, classification_report\n",
    "from sklearn.neighbors import KNeighborsClassifier\n",
    "from sklearn.cluster import KMeans\n",
    "\n",
    "import seaborn as sns\n",
    "import pandas_datareader as pd_dr"
   ]
  },
  {
   "cell_type": "code",
   "execution_count": 69,
   "id": "fd092651",
   "metadata": {},
   "outputs": [],
   "source": [
    "#Données d'entrainement doivent être différentes des données de test donc on s'arrete en 2019...\n",
    "training_data = pd_dr.DataReader( 'BTC-USD', 'yahoo', dt.datetime(2015,1,1), dt.datetime(2020,12,30) )\n",
    "testing_data = pd_dr.DataReader( 'BTC-USD', 'yahoo', dt.datetime(2021,1,1), dt.datetime.now() )\n",
    "#Drop la adj Close"
   ]
  },
  {
   "cell_type": "code",
   "execution_count": 70,
   "id": "b336b804",
   "metadata": {},
   "outputs": [],
   "source": [
    "trend_training_data = training_data\n",
    "trend_testing_data = testing_data"
   ]
  },
  {
   "cell_type": "code",
   "execution_count": 71,
   "id": "d5a5e5aa",
   "metadata": {},
   "outputs": [
    {
     "name": "stderr",
     "output_type": "stream",
     "text": [
      "C:\\Users\\owcha\\AppData\\Local\\Temp\\ipykernel_5692\\2998757128.py:10: SettingWithCopyWarning: \n",
      "A value is trying to be set on a copy of a slice from a DataFrame\n",
      "\n",
      "See the caveats in the documentation: https://pandas.pydata.org/pandas-docs/stable/user_guide/indexing.html#returning-a-view-versus-a-copy\n",
      "  trend_training_data[\"Diff_J+1\"].loc[trend_training_data[\"Diff_J+1\"] >= 0] = True\n",
      "C:\\Users\\owcha\\AppData\\Local\\Temp\\ipykernel_5692\\2998757128.py:13: SettingWithCopyWarning: \n",
      "A value is trying to be set on a copy of a slice from a DataFrame\n",
      "\n",
      "See the caveats in the documentation: https://pandas.pydata.org/pandas-docs/stable/user_guide/indexing.html#returning-a-view-versus-a-copy\n",
      "  trend_testing_data[\"Diff_J+1\"].loc[trend_testing_data[\"Diff_J+1\"] >= 0] = True\n"
     ]
    }
   ],
   "source": [
    "#trend preprocessing\n",
    "trend_training_data_j1 = trend_training_data.shift(periods=1)\n",
    "trend_testing_data_j1 = trend_testing_data.shift(periods=1)\n",
    "\n",
    "#creation de la colonne tendance, dans laquelle on soustrait le prix du jour actuel au prix j-1\n",
    "trend_training_data['Diff_J+1'] = trend_training_data[\"Close\"] - trend_training_data_j1[\"Close\"]\n",
    "trend_testing_data['Diff_J+1'] = trend_testing_data[\"Close\"] - trend_testing_data_j1[\"Close\"]\n",
    "\n",
    "#dans la colonne tendance, on remplace toutes les tendance de prix par True si elles augmentent et par False si elle diminue\n",
    "trend_training_data[\"Diff_J+1\"].loc[trend_training_data[\"Diff_J+1\"] >= 0] = True\n",
    "trend_training_data[\"Diff_J+1\"].loc[trend_training_data[\"Diff_J+1\"] < 0] = False\n",
    "\n",
    "trend_testing_data[\"Diff_J+1\"].loc[trend_testing_data[\"Diff_J+1\"] >= 0] = True\n",
    "trend_testing_data[\"Diff_J+1\"].loc[trend_testing_data[\"Diff_J+1\"] < 0] = False\n",
    "\n",
    "#suppression des lignes avec NaN (la premiere n'a pas de tendance vu qu'on a pas de jour precedent\n",
    "#on supprime la ligne plutot que de mettre une donnée fausse car il y'a 2192 lignes)\n",
    "trend_training_data.dropna(subset = [\"Diff_J+1\"], inplace=True)\n",
    "\n",
    "trend_training_data[\"Diff_J+1\"]= trend_training_data[\"Diff_J+1\"].astype('bool')\n",
    "trend_testing_data[\"Diff_J+1\"]= trend_testing_data[\"Diff_J+1\"].astype('bool')"
   ]
  },
  {
   "cell_type": "code",
   "execution_count": 72,
   "id": "9ab74f33",
   "metadata": {},
   "outputs": [
    {
     "name": "stdout",
     "output_type": "stream",
     "text": [
      "True     1208\n",
      "False     983\n",
      "Name: Diff_J+1, dtype: int64\n",
      "True     221\n",
      "False    215\n",
      "Name: Diff_J+1, dtype: int64\n"
     ]
    }
   ],
   "source": [
    "print( trend_training_data['Diff_J+1'].value_counts() )\n",
    "print( trend_testing_data['Diff_J+1'].value_counts() )"
   ]
  },
  {
   "cell_type": "code",
   "execution_count": 77,
   "id": "3c6acfdc",
   "metadata": {},
   "outputs": [
    {
     "name": "stdout",
     "output_type": "stream",
     "text": [
      "(2191, 7)\n",
      "(2191, 6)\n",
      "(2191,)\n",
      "(436, 6)\n",
      "(436,)\n"
     ]
    }
   ],
   "source": [
    "print( trend_training_data.shape )\n",
    "\n",
    "trend_training_x = trend_training_data.drop(columns=['Diff_J+1'])\n",
    "print( trend_training_x.shape )\n",
    "trend_training_y = trend_training_data['Diff_J+1']\n",
    "print( trend_training_y.shape )\n",
    "\n",
    "\n",
    "trend_testing_x = trend_testing_data.drop(columns=['Diff_J+1'])\n",
    "print( trend_testing_x.shape )\n",
    "trend_testing_y = trend_testing_data['Diff_J+1']\n",
    "print( trend_testing_y.shape )\n",
    "\n",
    "trend_scaler = MinMaxScaler( feature_range=(0,1) ) \n",
    "trend_training_x = trend_scaler.fit_transform(trend_training_x)\n",
    "trend_testing_x = trend_scaler.fit_transform(trend_testing_x)"
   ]
  },
  {
   "cell_type": "code",
   "execution_count": 80,
   "id": "e8c5a940",
   "metadata": {},
   "outputs": [
    {
     "data": {
      "text/plain": [
       "RandomForestClassifier(criterion='entropy', max_depth=30)"
      ]
     },
     "execution_count": 80,
     "metadata": {},
     "output_type": "execute_result"
    }
   ],
   "source": [
    "#Random Forest Model\n",
    "model = RandomForestClassifier(criterion = 'entropy', max_depth=30)\n",
    "model.fit( trend_training_x, trend_training_y )"
   ]
  },
  {
   "cell_type": "code",
   "execution_count": 82,
   "id": "b5401493",
   "metadata": {},
   "outputs": [
    {
     "name": "stdout",
     "output_type": "stream",
     "text": [
      "0.7958715596330275\n",
      "              precision    recall  f1-score   support\n",
      "\n",
      "       False       0.88      0.68      0.77       215\n",
      "        True       0.74      0.91      0.82       221\n",
      "\n",
      "    accuracy                           0.80       436\n",
      "   macro avg       0.81      0.79      0.79       436\n",
      "weighted avg       0.81      0.80      0.79       436\n",
      "\n"
     ]
    },
    {
     "data": {
      "image/png": "[encoded data removed]",
      "text/plain": [
       "<Figure size 576x432 with 2 Axes>"
      ]
     },
     "metadata": {
      "needs_background": "light"
     },
     "output_type": "display_data"
    }
   ],
   "source": [
    "print( model.score( trend_testing_x, trend_testing_y ) )\n",
    "\n",
    "trend_prediction = model.predict( trend_testing_x )\n",
    "\n",
    "cm = confusion_matrix( trend_testing_y , trend_prediction )\n",
    "plt.figure(figsize=(8, 6))\n",
    "plt.title('Confusion Matrix ', size=16)\n",
    "sns.heatmap(cm, annot=True, cmap='Blues')\n",
    "\n",
    "print( classification_report( trend_testing_y , trend_prediction ) )"
   ]
  },
  {
   "cell_type": "code",
   "execution_count": null,
   "id": "33a3fc38",
   "metadata": {},
   "outputs": [],
   "source": []
  }
 ],
 "metadata": {
  "kernelspec": {
   "display_name": "Python 3 (ipykernel)",
   "language": "python",
   "name": "python3"
  },
  "language_info": {
   "codemirror_mode": {
    "name": "ipython",
    "version": 3
   },
   "file_extension": ".py",
   "mimetype": "text/x-python",
   "name": "python",
   "nbconvert_exporter": "python",
   "pygments_lexer": "ipython3",
   "version": "3.10.2"
  }
 },
 "nbformat": 4,
 "nbformat_minor": 5
}
