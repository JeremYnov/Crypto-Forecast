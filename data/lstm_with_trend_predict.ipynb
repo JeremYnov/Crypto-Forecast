{
 "cells": [
  {
   "cell_type": "code",
   "execution_count": 184,
   "id": "0cfd7f4f",
   "metadata": {},
   "outputs": [],
   "source": [
    "#install numpy, pandas, matplolib, tensorflow, sklearn, pandas_datareader, seaborn\n",
    "import numpy as np\n",
    "import matplotlib.pyplot as plt\n",
    "import pandas as pd\n",
    "import datetime as dt\n",
    "from time import sleep\n",
    "import os\n",
    "\n",
    "from sklearn.preprocessing import MinMaxScaler\n",
    "from tensorflow.keras.layers import Dense, Dropout, LSTM\n",
    "from tensorflow.keras.models import Sequential\n",
    "\n",
    "from sklearn.model_selection import train_test_split\n",
    "from sklearn.ensemble import RandomForestClassifier\n",
    "from sklearn.ensemble import RandomForestRegressor\n",
    "from sklearn.metrics import confusion_matrix, classification_report\n",
    "from sklearn.neighbors import KNeighborsClassifier\n",
    "from sklearn.cluster import KMeans\n",
    "\n",
    "import seaborn as sns\n",
    "import pandas_datareader as pd_dr"
   ]
  },
  {
   "cell_type": "code",
   "execution_count": 185,
   "id": "fd092651",
   "metadata": {},
   "outputs": [],
   "source": [
    "#Données d'entrainement doivent être différentes des données de test donc on s'arrete en 2019...\n",
    "training_data = pd_dr.DataReader( 'BTC-USD', 'yahoo', dt.datetime(2015,1,1), dt.datetime(2020,12,30) )\n",
    "testing_data = pd_dr.DataReader( 'BTC-USD', 'yahoo', dt.datetime(2021,1,1), dt.datetime.now() )\n",
    "#Drop la adj Close"
   ]
  },
  {
   "cell_type": "code",
   "execution_count": 186,
   "id": "b336b804",
   "metadata": {},
   "outputs": [],
   "source": [
    "trend_training_data = training_data.copy()\n",
    "trend_testing_data = testing_data.copy()"
   ]
  },
  {
   "cell_type": "code",
   "execution_count": 187,
   "id": "d5a5e5aa",
   "metadata": {},
   "outputs": [
    {
     "name": "stderr",
     "output_type": "stream",
     "text": [
      "C:\\Users\\owcha\\AppData\\Local\\Temp\\ipykernel_16352\\2998757128.py:10: SettingWithCopyWarning: \n",
      "A value is trying to be set on a copy of a slice from a DataFrame\n",
      "\n",
      "See the caveats in the documentation: https://pandas.pydata.org/pandas-docs/stable/user_guide/indexing.html#returning-a-view-versus-a-copy\n",
      "  trend_training_data[\"Diff_J+1\"].loc[trend_training_data[\"Diff_J+1\"] >= 0] = True\n"
     ]
    }
   ],
   "source": [
    "#trend preprocessing\n",
    "trend_training_data_j1 = trend_training_data.shift(periods=1)\n",
    "trend_testing_data_j1 = trend_testing_data.shift(periods=1)\n",
    "\n",
    "#creation de la colonne tendance, dans laquelle on soustrait le prix du jour actuel au prix j-1\n",
    "trend_training_data['Diff_J+1'] = trend_training_data[\"Close\"] - trend_training_data_j1[\"Close\"]\n",
    "trend_testing_data['Diff_J+1'] = trend_testing_data[\"Close\"] - trend_testing_data_j1[\"Close\"]\n",
    "\n",
    "#dans la colonne tendance, on remplace toutes les tendance de prix par True si elles augmentent et par False si elle diminue\n",
    "trend_training_data[\"Diff_J+1\"].loc[trend_training_data[\"Diff_J+1\"] >= 0] = True\n",
    "trend_training_data[\"Diff_J+1\"].loc[trend_training_data[\"Diff_J+1\"] < 0] = False\n",
    "\n",
    "trend_testing_data[\"Diff_J+1\"].loc[trend_testing_data[\"Diff_J+1\"] >= 0] = True\n",
    "trend_testing_data[\"Diff_J+1\"].loc[trend_testing_data[\"Diff_J+1\"] < 0] = False\n",
    "\n",
    "#suppression des lignes avec NaN (la premiere n'a pas de tendance vu qu'on a pas de jour precedent\n",
    "#on supprime la ligne plutot que de mettre une donnée fausse car il y'a 2192 lignes)\n",
    "trend_training_data.dropna(subset = [\"Diff_J+1\"], inplace=True)\n",
    "\n",
    "trend_training_data[\"Diff_J+1\"]= trend_training_data[\"Diff_J+1\"].astype('bool')\n",
    "trend_testing_data[\"Diff_J+1\"]= trend_testing_data[\"Diff_J+1\"].astype('bool')"
   ]
  },
  {
   "cell_type": "code",
   "execution_count": 188,
   "id": "9ab74f33",
   "metadata": {},
   "outputs": [
    {
     "name": "stdout",
     "output_type": "stream",
     "text": [
      "True     1208\n",
      "False     983\n",
      "Name: Diff_J+1, dtype: int64\n",
      "True     221\n",
      "False    215\n",
      "Name: Diff_J+1, dtype: int64\n"
     ]
    }
   ],
   "source": [
    "print( trend_training_data['Diff_J+1'].value_counts() )\n",
    "print( trend_testing_data['Diff_J+1'].value_counts() )"
   ]
  },
  {
   "cell_type": "code",
   "execution_count": 195,
   "id": "3c6acfdc",
   "metadata": {},
   "outputs": [
    {
     "name": "stdout",
     "output_type": "stream",
     "text": [
      "(2191, 7)\n",
      "(2191, 6)\n",
      "(2191,)\n",
      "(436, 6)\n",
      "(436,)\n",
      "<bound method NDFrame.head of Date\n",
      "2021-01-01     True\n",
      "2021-01-02     True\n",
      "2021-01-03     True\n",
      "2021-01-04    False\n",
      "2021-01-05     True\n",
      "              ...  \n",
      "2022-03-08     True\n",
      "2022-03-09     True\n",
      "2022-03-10    False\n",
      "2022-03-11    False\n",
      "2022-03-13     True\n",
      "Name: Diff_J+1, Length: 436, dtype: bool>\n"
     ]
    }
   ],
   "source": [
    "print( trend_training_data.shape )\n",
    "\n",
    "trend_training_x = trend_training_data.drop(columns=['Diff_J+1'])\n",
    "print( trend_training_x.shape )\n",
    "trend_training_y = trend_training_data['Diff_J+1']\n",
    "print( trend_training_y.shape )\n",
    "\n",
    "\n",
    "trend_testing_x = trend_testing_data.drop(columns=['Diff_J+1'])\n",
    "print( trend_testing_x.shape )\n",
    "trend_testing_y = trend_testing_data['Diff_J+1']\n",
    "print( trend_testing_y.shape )\n",
    "print( trend_testing_y.head )\n",
    "\n",
    "trend_scaler = MinMaxScaler( feature_range=(0,1) ) \n",
    "trend_training_x = trend_scaler.fit_transform(trend_training_x)\n",
    "trend_testing_x = trend_scaler.fit_transform(trend_testing_x)"
   ]
  },
  {
   "cell_type": "code",
   "execution_count": 196,
   "id": "e8c5a940",
   "metadata": {},
   "outputs": [
    {
     "data": {
      "text/plain": [
       "RandomForestClassifier(criterion='entropy', max_depth=30)"
      ]
     },
     "execution_count": 196,
     "metadata": {},
     "output_type": "execute_result"
    }
   ],
   "source": [
    "#Random Forest Model\n",
    "model = RandomForestClassifier(criterion = 'entropy', max_depth=30)\n",
    "model.fit( trend_training_x, trend_training_y )"
   ]
  },
  {
   "cell_type": "code",
   "execution_count": 197,
   "id": "b5401493",
   "metadata": {},
   "outputs": [
    {
     "name": "stdout",
     "output_type": "stream",
     "text": [
      "0.7981651376146789\n",
      "<bound method NDFrame.head of Date\n",
      "2021-01-01     True\n",
      "2021-01-02     True\n",
      "2021-01-03     True\n",
      "2021-01-04    False\n",
      "2021-01-05     True\n",
      "              ...  \n",
      "2022-03-08     True\n",
      "2022-03-09     True\n",
      "2022-03-10    False\n",
      "2022-03-11    False\n",
      "2022-03-13     True\n",
      "Name: Diff_J+1, Length: 436, dtype: bool>\n",
      "              precision    recall  f1-score   support\n",
      "\n",
      "       False       0.89      0.67      0.77       215\n",
      "        True       0.74      0.92      0.82       221\n",
      "\n",
      "    accuracy                           0.80       436\n",
      "   macro avg       0.82      0.80      0.79       436\n",
      "weighted avg       0.82      0.80      0.79       436\n",
      "\n"
     ]
    },
    {
     "data": {
      "image/png": "[encoded data removed]",
      "text/plain": [
       "<Figure size 576x432 with 2 Axes>"
      ]
     },
     "metadata": {
      "needs_background": "light"
     },
     "output_type": "display_data"
    }
   ],
   "source": [
    "print( model.score( trend_testing_x, trend_testing_y ) )\n",
    "\n",
    "trend_prediction = model.predict( trend_testing_x )\n",
    "\n",
    "cm = confusion_matrix( trend_testing_y , trend_prediction )\n",
    "plt.figure(figsize=(8, 6))\n",
    "plt.title('Confusion Matrix ', size=16)\n",
    "sns.heatmap(cm, annot=True, cmap='Blues')\n",
    "\n",
    "print( classification_report( trend_testing_y , trend_prediction ) )"
   ]
  },
  {
   "cell_type": "code",
   "execution_count": 199,
   "id": "33a3fc38",
   "metadata": {},
   "outputs": [
    {
     "name": "stdout",
     "output_type": "stream",
     "text": [
      "(2191, 6)\n",
      "(436, 6)\n",
      "<bound method NDFrame.head of                     High           Low          Open         Close  \\\n",
      "Date                                                                 \n",
      "2015-01-02    315.838989    313.565002    314.079010    315.032013   \n",
      "2015-01-03    315.149994    281.082001    314.846008    281.082001   \n",
      "2015-01-04    287.230011    257.612000    281.145996    264.195007   \n",
      "2015-01-05    278.341003    265.084015    265.084015    274.473999   \n",
      "2015-01-06    287.553009    272.696014    274.610992    286.188995   \n",
      "...                  ...           ...           ...           ...   \n",
      "2020-12-27  28288.839844  25922.769531  26439.373047  26272.294922   \n",
      "2020-12-28  27389.111328  26207.640625  26280.822266  27084.808594   \n",
      "2020-12-29  27370.720703  25987.298828  27081.810547  27362.437500   \n",
      "2020-12-30  28937.740234  27360.089844  27360.089844  28840.953125   \n",
      "2020-12-31  29244.876953  28201.992188  28841.574219  29001.720703   \n",
      "\n",
      "                 Volume Predicted Trend  \n",
      "Date                                     \n",
      "2015-01-02      7860650             1.0  \n",
      "2015-01-03     33054400             0.0  \n",
      "2015-01-04     55629100             0.0  \n",
      "2015-01-05     43962800             1.0  \n",
      "2015-01-06     23245700             1.0  \n",
      "...                 ...             ...  \n",
      "2020-12-27  66479895605             0.0  \n",
      "2020-12-28  49056742893             1.0  \n",
      "2020-12-29  45265946774             1.0  \n",
      "2020-12-30  51287442704             1.0  \n",
      "2020-12-31  46754964848             1.0  \n",
      "\n",
      "[2191 rows x 6 columns]>\n",
      "<bound method NDFrame.head of                     High           Low          Open         Close  \\\n",
      "Date                                                                 \n",
      "2021-01-01  29600.626953  28803.585938  28994.009766  29374.152344   \n",
      "2021-01-02  33155.117188  29091.181641  29376.455078  32127.267578   \n",
      "2021-01-03  34608.558594  32052.316406  32129.408203  32782.023438   \n",
      "2021-01-04  33440.218750  28722.755859  32810.949219  31971.914062   \n",
      "2021-01-05  34437.589844  30221.187500  31977.041016  33992.429688   \n",
      "...                  ...           ...           ...           ...   \n",
      "2022-03-08  39304.441406  37957.386719  38059.902344  38737.269531   \n",
      "2022-03-09  42465.671875  38706.093750  38742.816406  41982.925781   \n",
      "2022-03-10  42004.726562  38832.941406  41974.070312  39437.460938   \n",
      "2022-03-11  40081.679688  38347.433594  39439.968750  38794.972656   \n",
      "2022-03-13  39200.679688  38494.574219  38810.542969  38967.246094   \n",
      "\n",
      "                  Volume Predicted Trend  \n",
      "Date                                      \n",
      "2021-01-01  4.073030e+10             0.0  \n",
      "2021-01-02  6.786542e+10             1.0  \n",
      "2021-01-03  7.866524e+10             1.0  \n",
      "2021-01-04  8.116348e+10             0.0  \n",
      "2021-01-05  6.754732e+10             1.0  \n",
      "...                  ...             ...  \n",
      "2022-03-08  2.577658e+10             1.0  \n",
      "2022-03-09  3.228412e+10             1.0  \n",
      "2022-03-10  3.107806e+10             0.0  \n",
      "2022-03-11  2.636489e+10             0.0  \n",
      "2022-03-13  1.481379e+10             1.0  \n",
      "\n",
      "[436 rows x 6 columns]>\n"
     ]
    },
    {
     "name": "stderr",
     "output_type": "stream",
     "text": [
      "C:\\Users\\owcha\\AppData\\Local\\Temp\\ipykernel_16352\\2109424596.py:8: SettingWithCopyWarning: \n",
      "A value is trying to be set on a copy of a slice from a DataFrame\n",
      "\n",
      "See the caveats in the documentation: https://pandas.pydata.org/pandas-docs/stable/user_guide/indexing.html#returning-a-view-versus-a-copy\n",
      "  lstm_training_data[\"Predicted Trend\"].loc[lstm_training_data[\"Predicted Trend\"] == True] = 1.0\n",
      "C:\\Users\\owcha\\AppData\\Local\\Temp\\ipykernel_16352\\2109424596.py:9: SettingWithCopyWarning: \n",
      "A value is trying to be set on a copy of a slice from a DataFrame\n",
      "\n",
      "See the caveats in the documentation: https://pandas.pydata.org/pandas-docs/stable/user_guide/indexing.html#returning-a-view-versus-a-copy\n",
      "  lstm_training_data[\"Predicted Trend\"].loc[lstm_training_data[\"Predicted Trend\"] == False] = 0.0\n",
      "C:\\Users\\owcha\\AppData\\Local\\Temp\\ipykernel_16352\\2109424596.py:14: SettingWithCopyWarning: \n",
      "A value is trying to be set on a copy of a slice from a DataFrame\n",
      "\n",
      "See the caveats in the documentation: https://pandas.pydata.org/pandas-docs/stable/user_guide/indexing.html#returning-a-view-versus-a-copy\n",
      "  lstm_testing_data[\"Predicted Trend\"].loc[lstm_testing_data[\"Predicted Trend\"] == True] = 1.0\n"
     ]
    }
   ],
   "source": [
    "lstm_training_data = training_data.copy()\n",
    "lstm_testing_data = testing_data.copy()\n",
    "\n",
    "lstm_training_data['Predicted Trend'] = trend_training_y\n",
    "lstm_training_data.dropna(subset = [\"Predicted Trend\"], inplace=True)\n",
    "\n",
    "lstm_training_data = lstm_training_data.drop(['Adj Close'], axis='columns')\n",
    "lstm_training_data[\"Predicted Trend\"].loc[lstm_training_data[\"Predicted Trend\"] == True] = 1.0\n",
    "lstm_training_data[\"Predicted Trend\"].loc[lstm_training_data[\"Predicted Trend\"] == False] = 0.0\n",
    "\n",
    "\n",
    "lstm_testing_data['Predicted Trend'] = trend_prediction\n",
    "lstm_testing_data = lstm_testing_data.drop(['Adj Close'], axis='columns')\n",
    "lstm_testing_data[\"Predicted Trend\"].loc[lstm_testing_data[\"Predicted Trend\"] == True] = 1.0\n",
    "lstm_testing_data[\"Predicted Trend\"].loc[lstm_testing_data[\"Predicted Trend\"] == False] = 0.0\n",
    "\n",
    "\n",
    "print( lstm_training_data.shape )\n",
    "print( lstm_testing_data.shape )\n",
    "print( lstm_training_data.head )\n",
    "print( lstm_testing_data.head )"
   ]
  },
  {
   "cell_type": "code",
   "execution_count": 200,
   "id": "26bb8e83",
   "metadata": {},
   "outputs": [],
   "source": [
    "#LSTM Preprocessing\n",
    "\n",
    "scaler = MinMaxScaler( feature_range=(0,1) )\n",
    "\n",
    "scaled_data = scaler.fit_transform( lstm_training_data ) \n",
    "\n",
    "#Fragmente le dataset en plusieurs packets\n",
    "chunks_size = 90\n",
    "\n",
    "lstm_training_x, lstm_training_y = list(), list()\n",
    "\n",
    "for x in range( chunks_size, len(scaled_data) ):\n",
    "    lstm_training_x.append(scaled_data[x-chunks_size:x])\n",
    "    lstm_training_y.append(scaled_data[x])\n",
    "    \n",
    "lstm_training_x, lstm_training_y = np.array(lstm_training_x), np.array(lstm_training_y)"
   ]
  },
  {
   "cell_type": "code",
   "execution_count": 201,
   "id": "d8413693",
   "metadata": {},
   "outputs": [
    {
     "name": "stdout",
     "output_type": "stream",
     "text": [
      "Model: \"sequential_7\"\n",
      "_________________________________________________________________\n",
      " Layer (type)                Output Shape              Param #   \n",
      "=================================================================\n",
      " lstm_21 (LSTM)              (None, 90, 60)            16080     \n",
      "                                                                 \n",
      " dropout_21 (Dropout)        (None, 90, 60)            0         \n",
      "                                                                 \n",
      " lstm_22 (LSTM)              (None, 90, 80)            45120     \n",
      "                                                                 \n",
      " dropout_22 (Dropout)        (None, 90, 80)            0         \n",
      "                                                                 \n",
      " lstm_23 (LSTM)              (None, 120)               96480     \n",
      "                                                                 \n",
      " dropout_23 (Dropout)        (None, 120)               0         \n",
      "                                                                 \n",
      " dense_7 (Dense)             (None, 6)                 726       \n",
      "                                                                 \n",
      "=================================================================\n",
      "Total params: 158,406\n",
      "Trainable params: 158,406\n",
      "Non-trainable params: 0\n",
      "_________________________________________________________________\n",
      "Epoch 1/30\n",
      "60/60 [==============================] - 8s 82ms/step - loss: 0.0552 - val_loss: 0.0539\n",
      "Epoch 2/30\n",
      "60/60 [==============================] - 4s 70ms/step - loss: 0.0462 - val_loss: 0.0550\n",
      "Epoch 3/30\n",
      "60/60 [==============================] - 4s 70ms/step - loss: 0.0452 - val_loss: 0.0502\n",
      "Epoch 4/30\n",
      "60/60 [==============================] - 4s 71ms/step - loss: 0.0445 - val_loss: 0.0511\n",
      "Epoch 5/30\n",
      "60/60 [==============================] - 4s 69ms/step - loss: 0.0442 - val_loss: 0.0526\n",
      "Epoch 6/30\n",
      "60/60 [==============================] - 4s 70ms/step - loss: 0.0448 - val_loss: 0.0524\n",
      "Epoch 7/30\n",
      "60/60 [==============================] - 4s 75ms/step - loss: 0.0438 - val_loss: 0.0523\n",
      "Epoch 8/30\n",
      "60/60 [==============================] - 5s 78ms/step - loss: 0.0437 - val_loss: 0.0572\n",
      "Epoch 9/30\n",
      "60/60 [==============================] - 4s 72ms/step - loss: 0.0436 - val_loss: 0.0479\n",
      "Epoch 10/30\n",
      "60/60 [==============================] - 4s 69ms/step - loss: 0.0438 - val_loss: 0.0485\n",
      "Epoch 11/30\n",
      "60/60 [==============================] - 4s 69ms/step - loss: 0.0434 - val_loss: 0.0482\n",
      "Epoch 12/30\n",
      "60/60 [==============================] - 4s 68ms/step - loss: 0.0432 - val_loss: 0.0548\n",
      "Epoch 13/30\n",
      "60/60 [==============================] - 4s 69ms/step - loss: 0.0432 - val_loss: 0.0483\n",
      "Epoch 14/30\n",
      "60/60 [==============================] - 4s 70ms/step - loss: 0.0433 - val_loss: 0.0486\n",
      "Epoch 15/30\n",
      "60/60 [==============================] - 4s 68ms/step - loss: 0.0429 - val_loss: 0.0471\n",
      "Epoch 16/30\n",
      "60/60 [==============================] - 4s 68ms/step - loss: 0.0429 - val_loss: 0.0485\n",
      "Epoch 17/30\n",
      "60/60 [==============================] - 4s 67ms/step - loss: 0.0431 - val_loss: 0.0484\n",
      "Epoch 18/30\n",
      "60/60 [==============================] - 4s 67ms/step - loss: 0.0431 - val_loss: 0.0480\n",
      "Epoch 19/30\n",
      "60/60 [==============================] - 4s 67ms/step - loss: 0.0429 - val_loss: 0.0456\n",
      "Epoch 20/30\n",
      "60/60 [==============================] - 4s 68ms/step - loss: 0.0428 - val_loss: 0.0507\n",
      "Epoch 21/30\n",
      "60/60 [==============================] - 4s 71ms/step - loss: 0.0430 - val_loss: 0.0462\n",
      "Epoch 22/30\n",
      "60/60 [==============================] - 4s 73ms/step - loss: 0.0429 - val_loss: 0.0484\n",
      "Epoch 23/30\n",
      "60/60 [==============================] - 4s 72ms/step - loss: 0.0432 - val_loss: 0.0467\n",
      "Epoch 24/30\n",
      "60/60 [==============================] - 4s 71ms/step - loss: 0.0426 - val_loss: 0.0460\n",
      "Epoch 25/30\n",
      "60/60 [==============================] - 4s 69ms/step - loss: 0.0425 - val_loss: 0.0468\n",
      "Epoch 26/30\n",
      "60/60 [==============================] - 4s 71ms/step - loss: 0.0428 - val_loss: 0.0470\n",
      "Epoch 27/30\n",
      "60/60 [==============================] - 4s 69ms/step - loss: 0.0426 - val_loss: 0.0482\n",
      "Epoch 28/30\n",
      "60/60 [==============================] - 4s 68ms/step - loss: 0.0424 - val_loss: 0.0461\n",
      "Epoch 29/30\n",
      "60/60 [==============================] - 4s 68ms/step - loss: 0.0428 - val_loss: 0.0475\n",
      "Epoch 30/30\n",
      "60/60 [==============================] - 4s 67ms/step - loss: 0.0427 - val_loss: 0.0452\n"
     ]
    }
   ],
   "source": [
    "#Neural network\n",
    "model = Sequential()\n",
    "\n",
    "model.add( LSTM(units=60, return_sequences=True, input_shape=(lstm_training_x.shape[1], 6)) )\n",
    "model.add( Dropout(0.2) )\n",
    "model.add( LSTM(units=80, return_sequences=True) )\n",
    "model.add( Dropout(0.3) ) \n",
    "model.add( LSTM(units=120) )\n",
    "model.add( Dropout(0.4) ) \n",
    "model.add( Dense(units=6) )\n",
    "\n",
    "model.summary()\n",
    "\n",
    "model.compile(optimizer='adam', loss='mean_squared_error')\n",
    "\n",
    "history = model.fit(lstm_training_x, lstm_training_y , epochs=30, batch_size=32, validation_split=0.1)"
   ]
  },
  {
   "cell_type": "code",
   "execution_count": 202,
   "id": "b489dd9e",
   "metadata": {},
   "outputs": [
    {
     "data": {
      "image/png": "[encoded data removed]",
      "text/plain": [
       "<Figure size 432x288 with 1 Axes>"
      ]
     },
     "metadata": {
      "needs_background": "light"
     },
     "output_type": "display_data"
    }
   ],
   "source": [
    "loss = history.history['loss']\n",
    "val_loss = history.history['val_loss']\n",
    "epochs = range(len(loss))\n",
    "plt.figure()\n",
    "plt.plot(epochs, loss, 'b', label='Training loss')\n",
    "plt.plot(epochs, val_loss, 'r', label='Validation loss')\n",
    "plt.title(\"Training and Validation Loss\")\n",
    "plt.legend()\n",
    "plt.show()"
   ]
  },
  {
   "cell_type": "code",
   "execution_count": 203,
   "id": "aa93ebee",
   "metadata": {},
   "outputs": [
    {
     "data": {
      "image/png": "[encoded data removed]",
      "text/plain": [
       "<Figure size 432x288 with 1 Axes>"
      ]
     },
     "metadata": {
      "needs_background": "light"
     },
     "output_type": "display_data"
    }
   ],
   "source": [
    "#Test du modèle\n",
    "actual_prices = lstm_testing_data['Close'].values\n",
    "actual_prices = actual_prices[89:x]\n",
    "\n",
    "#actual_prices = actual_prices * scaler.scale_[3]\n",
    "\n",
    "model_inputs = lstm_testing_data.values\n",
    "\n",
    "model_inputs = scaler.fit_transform(model_inputs)\n",
    "\n",
    "lstm_testing_x = list()\n",
    "for x in range( chunks_size, len(model_inputs) ):\n",
    "    lstm_testing_x.append( model_inputs[x-chunks_size:x] )\n",
    "    \n",
    "lstm_testing_x = np.array(lstm_testing_x)\n",
    "\n",
    "\n",
    "prediction_prices = model.predict(lstm_testing_x)\n",
    "prediction_prices = scaler.inverse_transform(prediction_prices)[:, [3]]\n",
    "\n",
    "#prediction_prices.shape\n",
    "\n",
    "plt.plot(actual_prices, color='black', label='actual_prices')\n",
    "plt.plot(prediction_prices, color='red', label='predicted_prices')\n",
    "plt.title('BTC price prediction')\n",
    "plt.xlabel('Time')\n",
    "plt.ylabel('Price')\n",
    "plt.show()"
   ]
  },
  {
   "cell_type": "code",
   "execution_count": null,
   "id": "cacd1427",
   "metadata": {},
   "outputs": [],
   "source": []
  }
 ],
 "metadata": {
  "kernelspec": {
   "display_name": "Python 3 (ipykernel)",
   "language": "python",
   "name": "python3"
  },
  "language_info": {
   "codemirror_mode": {
    "name": "ipython",
    "version": 3
   },
   "file_extension": ".py",
   "mimetype": "text/x-python",
   "name": "python",
   "nbconvert_exporter": "python",
   "pygments_lexer": "ipython3",
   "version": "3.10.2"
  }
 },
 "nbformat": 4,
 "nbformat_minor": 5
}
