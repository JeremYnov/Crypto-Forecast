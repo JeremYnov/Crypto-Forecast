{
 "cells": [
  {
   "cell_type": "markdown",
   "metadata": {
    "id": "hX4n9TsbGw-f"
   },
   "source": [
    "##### Copyright 2018 The TensorFlow Authors."
   ]
  },
  {
   "cell_type": "code",
   "execution_count": 4,
   "metadata": {
    "cellView": "form",
    "execution": {
     "iopub.execute_input": "2021-11-02T15:50:32.590813Z",
     "iopub.status.busy": "2021-11-02T15:50:32.590150Z",
     "iopub.status.idle": "2021-11-02T15:50:32.592967Z",
     "shell.execute_reply": "2021-11-02T15:50:32.592428Z"
    },
    "id": "0nbI5DtDGw-i"
   },
   "outputs": [],
   "source": [
    "#@title Licensed under the Apache License, Version 2.0 (the \"License\");\n",
    "# you may not use this file except in compliance with the License.\n",
    "# You may obtain a copy of the License at\n",
    "#\n",
    "# https://www.apache.org/licenses/LICENSE-2.0\n",
    "#\n",
    "# Unless required by applicable law or agreed to in writing, software\n",
    "# distributed under the License is distributed on an \"AS IS\" BASIS,\n",
    "# WITHOUT WARRANTIES OR CONDITIONS OF ANY KIND, either express or implied.\n",
    "# See the License for the specific language governing permissions and\n",
    "# limitations under the License."
   ]
  },
  {
   "cell_type": "markdown",
   "metadata": {
    "id": "9TnJztDZGw-n"
   },
   "source": [
    "# Text classification with an RNN"
   ]
  },
  {
   "cell_type": "markdown",
   "metadata": {
    "id": "AfN3bMR5Gw-o"
   },
   "source": [
    "<table class=\"tfo-notebook-buttons\" align=\"left\">\n",
    "  <td>\n",
    "    <a target=\"_blank\" href=\"https://www.tensorflow.org/text/tutorials/text_classification_rnn\"><img src=\"https://www.tensorflow.org/images/tf_logo_32px.png\" />View on TensorFlow.org</a>\n",
    "  </td>\n",
    "  <td>\n",
    "    <a target=\"_blank\" href=\"https://colab.research.google.com/github/tensorflow/text/blob/master/docs/tutorials/text_classification_rnn.ipynb\"><img src=\"https://www.tensorflow.org/images/colab_logo_32px.png\" />Run in Google Colab</a>\n",
    "  </td>\n",
    "  <td>\n",
    "    <a target=\"_blank\" href=\"https://github.com/tensorflow/text/blob/master/docs/tutorials/text_classification_rnn.ipynb\"><img src=\"https://www.tensorflow.org/images/GitHub-Mark-32px.png\" />View source on GitHub</a>\n",
    "  </td>\n",
    "  <td>\n",
    "    <a href=\"https://storage.googleapis.com/tensorflow_docs/text/docs/tutorials/text_classification_rnn.ipynb\"><img src=\"https://www.tensorflow.org/images/download_logo_32px.png\" />Download notebook</a>\n",
    "  </td>\n",
    "</table>"
   ]
  },
  {
   "cell_type": "markdown",
   "metadata": {
    "id": "lUWearf0Gw-p"
   },
   "source": [
    "This text classification tutorial trains a [recurrent neural network](https://developers.google.com/machine-learning/glossary/#recurrent_neural_network) on the [IMDB large movie review dataset](http://ai.stanford.edu/~amaas/data/sentiment/) for sentiment analysis."
   ]
  },
  {
   "cell_type": "markdown",
   "metadata": {
    "id": "_2VQo4bajwUU"
   },
   "source": [
    "## Setup"
   ]
  },
  {
   "cell_type": "code",
   "execution_count": 5,
   "metadata": {
    "execution": {
     "iopub.execute_input": "2021-11-02T15:50:32.600658Z",
     "iopub.status.busy": "2021-11-02T15:50:32.600048Z",
     "iopub.status.idle": "2021-11-02T15:50:34.697251Z",
     "shell.execute_reply": "2021-11-02T15:50:34.696671Z"
    },
    "id": "z682XYsrjkY9"
   },
   "outputs": [],
   "source": [
    "import numpy as np\n",
    "\n",
    "import tensorflow_datasets as tfds\n",
    "import tensorflow as tf\n",
    "\n",
    "tfds.disable_progress_bar()"
   ]
  },
  {
   "cell_type": "markdown",
   "metadata": {
    "id": "1rXHa-w9JZhb"
   },
   "source": [
    "Import `matplotlib` and create a helper function to plot graphs:"
   ]
  },
  {
   "cell_type": "code",
   "execution_count": 6,
   "metadata": {
    "execution": {
     "iopub.execute_input": "2021-11-02T15:50:34.702573Z",
     "iopub.status.busy": "2021-11-02T15:50:34.701983Z",
     "iopub.status.idle": "2021-11-02T15:50:34.934678Z",
     "shell.execute_reply": "2021-11-02T15:50:34.934132Z"
    },
    "id": "Mp1Z7P9pYRSK"
   },
   "outputs": [],
   "source": [
    "import matplotlib.pyplot as plt\n",
    "\n",
    "\n",
    "def plot_graphs(history, metric):\n",
    "  plt.plot(history.history[metric])\n",
    "  plt.plot(history.history['val_'+metric], '')\n",
    "  plt.xlabel(\"Epochs\")\n",
    "  plt.ylabel(metric)\n",
    "  plt.legend([metric, 'val_'+metric])"
   ]
  },
  {
   "cell_type": "markdown",
   "metadata": {
    "id": "pRmMubr0jrE2"
   },
   "source": [
    "## Setup input pipeline\n",
    "\n",
    "\n",
    "The IMDB large movie review dataset is a *binary classification* dataset—all the reviews have either a *positive* or *negative* sentiment.\n",
    "\n",
    "Download the dataset using [TFDS](https://www.tensorflow.org/datasets). See the [loading text tutorial](https://www.tensorflow.org/tutorials/load_data/text) for details on how to load this sort of data manually.\n"
   ]
  },
  {
   "cell_type": "code",
   "execution_count": 3,
   "metadata": {
    "execution": {
     "iopub.execute_input": "2021-11-02T15:50:34.939647Z",
     "iopub.status.busy": "2021-11-02T15:50:34.939008Z",
     "iopub.status.idle": "2021-11-02T15:50:40.367522Z",
     "shell.execute_reply": "2021-11-02T15:50:40.367906Z"
    },
    "id": "SHRwRoP2nVHX"
   },
   "outputs": [
    {
     "data": {
      "text/plain": [
       "(TensorSpec(shape=(), dtype=tf.string, name=None),\n",
       " TensorSpec(shape=(), dtype=tf.int64, name=None))"
      ]
     },
     "execution_count": 3,
     "metadata": {},
     "output_type": "execute_result"
    }
   ],
   "source": [
    "dataset, info = tfds.load('imdb_reviews', with_info=True,\n",
    "                          as_supervised=True)\n",
    "train_dataset, test_dataset = dataset['train'], dataset['test']\n",
    "\n",
    "train_dataset.element_spec"
   ]
  },
  {
   "cell_type": "markdown",
   "metadata": {
    "id": "nWA4c2ir7g6p"
   },
   "source": [
    "Initially this returns a dataset of (text, label pairs):"
   ]
  },
  {
   "cell_type": "code",
   "execution_count": 7,
   "metadata": {
    "execution": {
     "iopub.execute_input": "2021-11-02T15:50:40.372803Z",
     "iopub.status.busy": "2021-11-02T15:50:40.372245Z",
     "iopub.status.idle": "2021-11-02T15:50:42.826608Z",
     "shell.execute_reply": "2021-11-02T15:50:42.827029Z"
    },
    "id": "vd4_BGKyurao"
   },
   "outputs": [
    {
     "name": "stdout",
     "output_type": "stream",
     "text": [
      "text:  b\"This was an absolutely terrible movie. Don't be lured in by Christopher Walken or Michael Ironside. Both are great actors, but this must simply be their worst role in history. Even their great acting could not redeem this movie's ridiculous storyline. This movie is an early nineties US propaganda piece. The most pathetic scenes were those when the Columbian rebels were making their cases for revolutions. Maria Conchita Alonso appeared phony, and her pseudo-love affair with Walken was nothing but a pathetic emotional plug in a movie that was devoid of any real meaning. I am disappointed that there are movies like this, ruining actor's like Christopher Walken's good name. I could barely sit through it.\"\n",
      "label:  0\n"
     ]
    }
   ],
   "source": [
    "for example, label in train_dataset.take(1):\n",
    "  print('text: ', example.numpy())\n",
    "  print('label: ', label.numpy())"
   ]
  },
  {
   "cell_type": "markdown",
   "metadata": {
    "id": "z2qVJzcEluH_"
   },
   "source": [
    "Next shuffle the data for training and create batches of these `(text, label)` pairs:"
   ]
  },
  {
   "cell_type": "code",
   "execution_count": 8,
   "metadata": {
    "execution": {
     "iopub.execute_input": "2021-11-02T15:50:42.831318Z",
     "iopub.status.busy": "2021-11-02T15:50:42.830698Z",
     "iopub.status.idle": "2021-11-02T15:50:42.832648Z",
     "shell.execute_reply": "2021-11-02T15:50:42.832975Z"
    },
    "id": "dDsCaZCDYZgm"
   },
   "outputs": [],
   "source": [
    "BUFFER_SIZE = 10000\n",
    "BATCH_SIZE = 64"
   ]
  },
  {
   "cell_type": "code",
   "execution_count": 9,
   "metadata": {
    "execution": {
     "iopub.execute_input": "2021-11-02T15:50:42.837775Z",
     "iopub.status.busy": "2021-11-02T15:50:42.837138Z",
     "iopub.status.idle": "2021-11-02T15:50:42.841349Z",
     "shell.execute_reply": "2021-11-02T15:50:42.841706Z"
    },
    "id": "VznrltNOnUc5"
   },
   "outputs": [],
   "source": [
    "train_dataset = train_dataset.shuffle(BUFFER_SIZE).batch(BATCH_SIZE).prefetch(tf.data.AUTOTUNE)\n",
    "test_dataset = test_dataset.batch(BATCH_SIZE).prefetch(tf.data.AUTOTUNE)"
   ]
  },
  {
   "cell_type": "code",
   "execution_count": 10,
   "metadata": {
    "execution": {
     "iopub.execute_input": "2021-11-02T15:50:42.846034Z",
     "iopub.status.busy": "2021-11-02T15:50:42.845470Z",
     "iopub.status.idle": "2021-11-02T15:50:45.126272Z",
     "shell.execute_reply": "2021-11-02T15:50:45.126652Z"
    },
    "id": "jqkvdcFv41wC"
   },
   "outputs": [
    {
     "name": "stdout",
     "output_type": "stream",
     "text": [
      "texts:  [b\"didn't know anything about the film or that it was based on a best selling book.Tried guessing from the opening scenes what it would be about,best guess,buried treasure and a death list.That lasted about 15 minutes when i got the sneaky suspicion that the film was crap.I'll not bore you with how bad the plot and acting were but anyone who gave it more than two stars must work for the film makers.I watched until the hero jumped into his corvette to rush to the hospital.He had his on his suit,shirt and tie arrived at the hospital in jeans and a t/shirt.Couldn't even get the continuity right. I got the Christian theme,hard to miss it .\"\n",
      " b\"Awful! Absolutely awful! No plot, no point, no end. It looks like the director turned the camera on and then the whole crew went to lunch. Every day. I'm trying to GIVE this video away but no one will take it. I'm giving it a 2 instead of a 1 because I like Benigni. Roger, I'm going to have to say thumbs down on this one.<br /><br />\"\n",
      " b\"When The Matrix appeared in 1999 and questioned existence and identity, it was expected that a lot of movies would use it as inspiration. That didn't really happen, surprisingly, and it took till 2002 for a movie of similar theme to appear. But to say Cypher is a clone would be to its discredit.<br /><br />The story is of a Morgan Sullivan, who applies for a job with a high-flying techno-company called Digicorp. His job is to be a spy and gain information about a rival company, while under an assumed and false identity. His home-life is perfectly normal but he has to lie to his wife about what he's actually doing. However, things start to take conspirital turns and before he knows what's going on, he starts to question who he actually is. This is not helped by a strange woman who turns up...<br /><br />Twists and turns at every direction keep you absolutely fascinated, and at no point does anything ever seem contrived or unbelievable.<br /><br />It's an enthralling journey through a not-too-distant future, and with good acting all round will keep you on the edge of your seat.<br /><br />Highly recommended.\"]\n",
      "\n",
      "labels:  [0 0 1]\n"
     ]
    }
   ],
   "source": [
    "for example, label in train_dataset.take(1):\n",
    "  print('texts: ', example.numpy()[:3])\n",
    "  print()\n",
    "  print('labels: ', label.numpy()[:3])"
   ]
  },
  {
   "cell_type": "markdown",
   "metadata": {
    "id": "s5eWCo88voPY"
   },
   "source": [
    "## Create the text encoder"
   ]
  },
  {
   "cell_type": "markdown",
   "metadata": {
    "id": "TFevcItw15P_"
   },
   "source": [
    "The raw text loaded by `tfds` needs to be processed before it can be used in a model. The simplest way to process text for training is using the `TextVectorization` layer. This layer has many capabilities, but this tutorial sticks to the default behavior.\n",
    "\n",
    "Create the layer, and pass the dataset's text to the layer's `.adapt` method:"
   ]
  },
  {
   "cell_type": "code",
   "execution_count": 11,
   "metadata": {
    "execution": {
     "iopub.execute_input": "2021-11-02T15:50:45.131867Z",
     "iopub.status.busy": "2021-11-02T15:50:45.131251Z",
     "iopub.status.idle": "2021-11-02T15:50:48.294934Z",
     "shell.execute_reply": "2021-11-02T15:50:48.295429Z"
    },
    "id": "uC25Lu1Yvuqy"
   },
   "outputs": [],
   "source": [
    "VOCAB_SIZE = 1000\n",
    "encoder = tf.keras.layers.TextVectorization(\n",
    "    max_tokens=VOCAB_SIZE)\n",
    "encoder.adapt(train_dataset.map(lambda text, label: text))"
   ]
  },
  {
   "cell_type": "markdown",
   "metadata": {
    "id": "IuQzVBbe3Ldu"
   },
   "source": [
    "The `.adapt` method sets the layer's vocabulary. Here are the first 20 tokens. After the padding and unknown tokens they're sorted by frequency: "
   ]
  },
  {
   "cell_type": "code",
   "execution_count": 12,
   "metadata": {
    "execution": {
     "iopub.execute_input": "2021-11-02T15:50:48.299858Z",
     "iopub.status.busy": "2021-11-02T15:50:48.299279Z",
     "iopub.status.idle": "2021-11-02T15:50:48.305058Z",
     "shell.execute_reply": "2021-11-02T15:50:48.304619Z"
    },
    "id": "tBoyjjWg0Ac9"
   },
   "outputs": [
    {
     "data": {
      "text/plain": [
       "array(['', '[UNK]', 'the', 'and', 'a', 'of', 'to', 'is', 'in', 'it', 'i',\n",
       "       'this', 'that', 'br', 'was', 'as', 'for', 'with', 'movie', 'but'],\n",
       "      dtype='<U14')"
      ]
     },
     "execution_count": 12,
     "metadata": {},
     "output_type": "execute_result"
    }
   ],
   "source": [
    "vocab = np.array(encoder.get_vocabulary())\n",
    "vocab[:20]"
   ]
  },
  {
   "cell_type": "markdown",
   "metadata": {
    "id": "mjId5pua3jHQ"
   },
   "source": [
    "Once the vocabulary is set, the layer can encode text into indices. The tensors of indices are 0-padded to the longest sequence in the batch (unless you set a fixed `output_sequence_length`):"
   ]
  },
  {
   "cell_type": "code",
   "execution_count": 13,
   "metadata": {
    "execution": {
     "iopub.execute_input": "2021-11-02T15:50:48.308818Z",
     "iopub.status.busy": "2021-11-02T15:50:48.308274Z",
     "iopub.status.idle": "2021-11-02T15:50:48.321984Z",
     "shell.execute_reply": "2021-11-02T15:50:48.322347Z"
    },
    "id": "RGc7C9WiwRWs"
   },
   "outputs": [
    {
     "data": {
      "text/plain": [
       "array([[153, 118, 229, ...,   0,   0,   0],\n",
       "       [381, 412, 381, ...,   0,   0,   0],\n",
       "       [ 51,   2,   1, ...,   0,   0,   0]], dtype=int64)"
      ]
     },
     "execution_count": 13,
     "metadata": {},
     "output_type": "execute_result"
    }
   ],
   "source": [
    "encoded_example = encoder(example)[:3].numpy()\n",
    "encoded_example"
   ]
  },
  {
   "cell_type": "markdown",
   "metadata": {
    "id": "F5cjz0bS39IN"
   },
   "source": [
    "With the default settings, the process is not completely reversible. There are three main reasons for that:\n",
    "\n",
    "1. The default value for `preprocessing.TextVectorization`'s `standardize` argument is `\"lower_and_strip_punctuation\"`.\n",
    "2. The limited vocabulary size and lack of character-based fallback results in some unknown tokens."
   ]
  },
  {
   "cell_type": "code",
   "execution_count": 14,
   "metadata": {
    "execution": {
     "iopub.execute_input": "2021-11-02T15:50:48.327153Z",
     "iopub.status.busy": "2021-11-02T15:50:48.326376Z",
     "iopub.status.idle": "2021-11-02T15:50:48.332236Z",
     "shell.execute_reply": "2021-11-02T15:50:48.331662Z"
    },
    "id": "N_tD0QY5wXaK"
   },
   "outputs": [
    {
     "name": "stdout",
     "output_type": "stream",
     "text": [
      "Original:  b\"didn't know anything about the film or that it was based on a best selling book.Tried guessing from the opening scenes what it would be about,best guess,buried treasure and a death list.That lasted about 15 minutes when i got the sneaky suspicion that the film was crap.I'll not bore you with how bad the plot and acting were but anyone who gave it more than two stars must work for the film makers.I watched until the hero jumped into his corvette to rush to the hospital.He had his on his suit,shirt and tie arrived at the hospital in jeans and a t/shirt.Couldn't even get the continuity right. I got the Christian theme,hard to miss it .\"\n",
      "Round-trip:  didnt know anything about the film or that it was based on a best [UNK] [UNK] [UNK] from the opening scenes what it would be [UNK] [UNK] [UNK] and a death [UNK] [UNK] about [UNK] minutes when i got the [UNK] [UNK] that the film was [UNK] not [UNK] you with how bad the plot and acting were but anyone who gave it more than two stars must work for the film [UNK] watched until the hero [UNK] into his [UNK] to [UNK] to the [UNK] had his on his [UNK] and [UNK] [UNK] at the [UNK] in [UNK] and a [UNK] even get the [UNK] right i got the [UNK] [UNK] to miss it                                                                                                                                                                                                                                                                                                                                                                                                                                                                                                                                                                                                                                                                                                                                                                                                                                                                   \n",
      "\n",
      "Original:  b\"Awful! Absolutely awful! No plot, no point, no end. It looks like the director turned the camera on and then the whole crew went to lunch. Every day. I'm trying to GIVE this video away but no one will take it. I'm giving it a 2 instead of a 1 because I like Benigni. Roger, I'm going to have to say thumbs down on this one.<br /><br />\"\n",
      "Round-trip:  awful absolutely awful no plot no point no end it looks like the director turned the camera on and then the whole [UNK] went to [UNK] every day im trying to give this video away but no one will take it im giving it a 2 instead of a 1 because i like [UNK] [UNK] im going to have to say [UNK] down on this [UNK] br                                                                                                                                                                                                                                                                                                                                                                                                                                                                                                                                                                                                                                                                                                                                                                                                                                                                                                                   \n",
      "\n",
      "Original:  b\"When The Matrix appeared in 1999 and questioned existence and identity, it was expected that a lot of movies would use it as inspiration. That didn't really happen, surprisingly, and it took till 2002 for a movie of similar theme to appear. But to say Cypher is a clone would be to its discredit.<br /><br />The story is of a Morgan Sullivan, who applies for a job with a high-flying techno-company called Digicorp. His job is to be a spy and gain information about a rival company, while under an assumed and false identity. His home-life is perfectly normal but he has to lie to his wife about what he's actually doing. However, things start to take conspirital turns and before he knows what's going on, he starts to question who he actually is. This is not helped by a strange woman who turns up...<br /><br />Twists and turns at every direction keep you absolutely fascinated, and at no point does anything ever seem contrived or unbelievable.<br /><br />It's an enthralling journey through a not-too-distant future, and with good acting all round will keep you on the edge of your seat.<br /><br />Highly recommended.\"\n",
      "Round-trip:  when the [UNK] [UNK] in [UNK] and [UNK] [UNK] and [UNK] it was expected that a lot of movies would use it as [UNK] that didnt really happen [UNK] and it took [UNK] [UNK] for a movie of similar theme to appear but to say [UNK] is a [UNK] would be to its [UNK] br the story is of a [UNK] [UNK] who [UNK] for a job with a [UNK] [UNK] called [UNK] his job is to be a [UNK] and [UNK] [UNK] about a [UNK] [UNK] while under an [UNK] and [UNK] [UNK] his [UNK] is perfectly [UNK] but he has to [UNK] to his wife about what hes actually doing however things start to take [UNK] turns and before he knows whats going on he starts to question who he actually is this is not [UNK] by a strange woman who turns [UNK] br [UNK] and turns at every direction keep you absolutely [UNK] and at no point does anything ever seem [UNK] or [UNK] br its an [UNK] [UNK] through a [UNK] future and with good acting all [UNK] will keep you on the [UNK] of your [UNK] br highly [UNK]                                                                                                                                                                                                                                                                                                                                                                                                                                                                                                                                                                                                                                                                                                                                                                                    \n",
      "\n"
     ]
    }
   ],
   "source": [
    "for n in range(3):\n",
    "  print(\"Original: \", example[n].numpy())\n",
    "  print(\"Round-trip: \", \" \".join(vocab[encoded_example[n]]))\n",
    "  print()"
   ]
  },
  {
   "cell_type": "markdown",
   "metadata": {
    "id": "bjUqGVBxGw-t"
   },
   "source": [
    "## Create the model"
   ]
  },
  {
   "cell_type": "markdown",
   "metadata": {
    "id": "W7zsmInBOCPO"
   },
   "source": [
    "![A drawing of the information flow in the model](images/bidirectional.png)"
   ]
  },
  {
   "cell_type": "markdown",
   "metadata": {
    "id": "bgs6nnSTGw-t"
   },
   "source": [
    "Above is a diagram of the model. \n",
    "\n",
    "1. This model can be build as a `tf.keras.Sequential`.\n",
    "\n",
    "2. The first layer is the `encoder`, which converts the text to a sequence of token indices.\n",
    "\n",
    "3. After the encoder is an embedding layer. An embedding layer stores one vector per word. When called, it converts the sequences of word indices to sequences of vectors. These vectors are trainable. After training (on enough data), words with similar meanings often have similar vectors.\n",
    "\n",
    "  This index-lookup is much more efficient than the equivalent operation of passing a one-hot encoded vector through a `tf.keras.layers.Dense` layer.\n",
    "\n",
    "4. A recurrent neural network (RNN) processes sequence input by iterating through the elements. RNNs pass the outputs from one timestep to their input on the next timestep.\n",
    "\n",
    "  The `tf.keras.layers.Bidirectional` wrapper can also be used with an RNN layer. This propagates the input forward and backwards through the RNN layer and then concatenates the final output. \n",
    "\n",
    "  * The main advantage of a bidirectional RNN is that the signal from the beginning of the input doesn't need to be processed all the way through every timestep to affect the output.  \n",
    "\n",
    "  * The main disadvantage of a bidirectional RNN is that you can't efficiently stream predictions as words are being added to the end.\n",
    "\n",
    "5. After the RNN has converted the sequence to a single vector the two `layers.Dense` do some final processing, and convert from this vector representation to a single logit as the classification output. \n"
   ]
  },
  {
   "cell_type": "markdown",
   "metadata": {
    "id": "V4fodCI7soQi"
   },
   "source": [
    "The code to implement this is below:"
   ]
  },
  {
   "cell_type": "code",
   "execution_count": 15,
   "metadata": {
    "execution": {
     "iopub.execute_input": "2021-11-02T15:50:48.337515Z",
     "iopub.status.busy": "2021-11-02T15:50:48.336851Z",
     "iopub.status.idle": "2021-11-02T15:50:49.682810Z",
     "shell.execute_reply": "2021-11-02T15:50:49.682208Z"
    },
    "id": "LwfoBkmRYcP3"
   },
   "outputs": [],
   "source": [
    "model = tf.keras.Sequential([\n",
    "    encoder,\n",
    "    tf.keras.layers.Embedding(\n",
    "        input_dim=len(encoder.get_vocabulary()),\n",
    "        output_dim=64,\n",
    "        # Use masking to handle the variable sequence lengths\n",
    "        mask_zero=True),\n",
    "    tf.keras.layers.Bidirectional(tf.keras.layers.LSTM(64)),\n",
    "    tf.keras.layers.Dense(64, activation='relu'),\n",
    "    tf.keras.layers.Dense(1)\n",
    "])"
   ]
  },
  {
   "cell_type": "markdown",
   "metadata": {
    "id": "QIGmIGkkouUb"
   },
   "source": [
    "Please note that Keras sequential model is used here since all the layers in the model only have single input and produce single output. In case you want to use stateful RNN layer, you might want to build your model with Keras functional API or model subclassing so that you can retrieve and reuse the RNN layer states. Please check [Keras RNN guide](https://www.tensorflow.org/guide/keras/rnn#rnn_state_reuse) for more details."
   ]
  },
  {
   "cell_type": "markdown",
   "metadata": {
    "id": "kF-PsCk1LwjY"
   },
   "source": [
    "The embedding layer [uses masking](https://www.tensorflow.org/guide/keras/masking_and_padding) to handle the varying sequence-lengths. All the layers after the `Embedding` support masking:"
   ]
  },
  {
   "cell_type": "code",
   "execution_count": 16,
   "metadata": {
    "execution": {
     "iopub.execute_input": "2021-11-02T15:50:49.688412Z",
     "iopub.status.busy": "2021-11-02T15:50:49.687680Z",
     "iopub.status.idle": "2021-11-02T15:50:49.690180Z",
     "shell.execute_reply": "2021-11-02T15:50:49.690575Z"
    },
    "id": "87a8-CwfKebw"
   },
   "outputs": [
    {
     "name": "stdout",
     "output_type": "stream",
     "text": [
      "[False, True, True, True, True]\n"
     ]
    }
   ],
   "source": [
    "print([layer.supports_masking for layer in model.layers])"
   ]
  },
  {
   "cell_type": "markdown",
   "metadata": {
    "id": "ZlS0iaUIWLpI"
   },
   "source": [
    "To confirm that this works as expected, evaluate a sentence twice. First, alone so there's no padding to mask:"
   ]
  },
  {
   "cell_type": "code",
   "execution_count": 17,
   "metadata": {
    "execution": {
     "iopub.execute_input": "2021-11-02T15:50:49.695532Z",
     "iopub.status.busy": "2021-11-02T15:50:49.694953Z",
     "iopub.status.idle": "2021-11-02T15:50:52.508631Z",
     "shell.execute_reply": "2021-11-02T15:50:52.509017Z"
    },
    "id": "O41gw3KfWHus"
   },
   "outputs": [
    {
     "name": "stdout",
     "output_type": "stream",
     "text": [
      "[0.00822308]\n"
     ]
    }
   ],
   "source": [
    "# predict on a sample text without padding.\n",
    "\n",
    "sample_text = ('The movie was cool. The animation and the graphics '\n",
    "               'were out of this world. I would recommend this movie.')\n",
    "predictions = model.predict(np.array([sample_text]))\n",
    "print(predictions[0])"
   ]
  },
  {
   "cell_type": "markdown",
   "metadata": {
    "id": "K0VQmGnEWcuz"
   },
   "source": [
    "Now, evaluate it again in a batch with a longer sentence. The result should be identical:"
   ]
  },
  {
   "cell_type": "code",
   "execution_count": 18,
   "metadata": {
    "execution": {
     "iopub.execute_input": "2021-11-02T15:50:52.515111Z",
     "iopub.status.busy": "2021-11-02T15:50:52.514457Z",
     "iopub.status.idle": "2021-11-02T15:50:52.658235Z",
     "shell.execute_reply": "2021-11-02T15:50:52.658691Z"
    },
    "id": "UIgpuTeFNDzq"
   },
   "outputs": [
    {
     "name": "stdout",
     "output_type": "stream",
     "text": [
      "[0.00822308]\n"
     ]
    }
   ],
   "source": [
    "# predict on a sample text with padding\n",
    "\n",
    "padding = \"the \" * 2000\n",
    "predictions = model.predict(np.array([sample_text, padding]))\n",
    "print(predictions[0])"
   ]
  },
  {
   "cell_type": "markdown",
   "metadata": {
    "id": "sRI776ZcH3Tf"
   },
   "source": [
    "Compile the Keras model to configure the training process:"
   ]
  },
  {
   "cell_type": "code",
   "execution_count": 19,
   "metadata": {
    "execution": {
     "iopub.execute_input": "2021-11-02T15:50:52.795749Z",
     "iopub.status.busy": "2021-11-02T15:50:52.794994Z",
     "iopub.status.idle": "2021-11-02T15:50:52.860291Z",
     "shell.execute_reply": "2021-11-02T15:50:52.860662Z"
    },
    "id": "kj2xei41YZjC"
   },
   "outputs": [],
   "source": [
    "model.compile(loss=tf.keras.losses.BinaryCrossentropy(from_logits=True),\n",
    "              optimizer=tf.keras.optimizers.Adam(1e-4),\n",
    "              metrics=['accuracy'])"
   ]
  },
  {
   "cell_type": "markdown",
   "metadata": {
    "id": "zIwH3nto596k"
   },
   "source": [
    "## Train the model"
   ]
  },
  {
   "cell_type": "code",
   "execution_count": 20,
   "metadata": {
    "execution": {
     "iopub.execute_input": "2021-11-02T15:50:52.865748Z",
     "iopub.status.busy": "2021-11-02T15:50:52.865047Z",
     "iopub.status.idle": "2021-11-02T15:56:08.899338Z",
     "shell.execute_reply": "2021-11-02T15:56:08.899791Z"
    },
    "id": "hw86wWS4YgR2"
   },
   "outputs": [
    {
     "name": "stdout",
     "output_type": "stream",
     "text": [
      "Epoch 1/10\n",
      "391/391 [==============================] - 86s 183ms/step - loss: 0.6345 - accuracy: 0.5695 - val_loss: 0.4769 - val_accuracy: 0.7693\n",
      "Epoch 2/10\n",
      "391/391 [==============================] - 71s 182ms/step - loss: 0.4283 - accuracy: 0.8063 - val_loss: 0.3912 - val_accuracy: 0.8354\n",
      "Epoch 3/10\n",
      "391/391 [==============================] - 69s 176ms/step - loss: 0.3596 - accuracy: 0.8437 - val_loss: 0.3604 - val_accuracy: 0.8479\n",
      "Epoch 4/10\n",
      "391/391 [==============================] - 66s 168ms/step - loss: 0.3312 - accuracy: 0.8575 - val_loss: 0.3510 - val_accuracy: 0.8516\n",
      "Epoch 5/10\n",
      "391/391 [==============================] - 64s 164ms/step - loss: 0.3213 - accuracy: 0.8610 - val_loss: 0.3324 - val_accuracy: 0.8516\n",
      "Epoch 6/10\n",
      "391/391 [==============================] - 68s 173ms/step - loss: 0.3117 - accuracy: 0.8655 - val_loss: 0.3345 - val_accuracy: 0.8526\n",
      "Epoch 7/10\n",
      "391/391 [==============================] - 69s 176ms/step - loss: 0.3069 - accuracy: 0.8683 - val_loss: 0.3240 - val_accuracy: 0.8490\n",
      "Epoch 8/10\n",
      "391/391 [==============================] - 71s 182ms/step - loss: 0.3027 - accuracy: 0.8688 - val_loss: 0.3439 - val_accuracy: 0.8313\n",
      "Epoch 9/10\n",
      "391/391 [==============================] - 69s 177ms/step - loss: 0.3011 - accuracy: 0.8696 - val_loss: 0.3284 - val_accuracy: 0.8526\n",
      "Epoch 10/10\n",
      "391/391 [==============================] - 70s 178ms/step - loss: 0.2967 - accuracy: 0.8732 - val_loss: 0.3218 - val_accuracy: 0.8547\n"
     ]
    }
   ],
   "source": [
    "history = model.fit(train_dataset, epochs=10,\n",
    "                    validation_data=test_dataset,\n",
    "                    validation_steps=30)"
   ]
  },
  {
   "cell_type": "code",
   "execution_count": 21,
   "metadata": {
    "execution": {
     "iopub.execute_input": "2021-11-02T15:56:08.905181Z",
     "iopub.status.busy": "2021-11-02T15:56:08.904477Z",
     "iopub.status.idle": "2021-11-02T15:56:24.266040Z",
     "shell.execute_reply": "2021-11-02T15:56:24.266501Z"
    },
    "id": "BaNbXi43YgUT"
   },
   "outputs": [
    {
     "name": "stdout",
     "output_type": "stream",
     "text": [
      "391/391 [==============================] - 28s 72ms/step - loss: 0.3156 - accuracy: 0.8566\n",
      "Test Loss: 0.31560418009757996\n",
      "Test Accuracy: 0.8565999865531921\n"
     ]
    }
   ],
   "source": [
    "test_loss, test_acc = model.evaluate(test_dataset)\n",
    "\n",
    "print('Test Loss:', test_loss)\n",
    "print('Test Accuracy:', test_acc)"
   ]
  },
  {
   "cell_type": "code",
   "execution_count": 22,
   "metadata": {
    "execution": {
     "iopub.execute_input": "2021-11-02T15:56:24.308793Z",
     "iopub.status.busy": "2021-11-02T15:56:24.286044Z",
     "iopub.status.idle": "2021-11-02T15:56:24.534404Z",
     "shell.execute_reply": "2021-11-02T15:56:24.534886Z"
    },
    "id": "OZmwt_mzaQJk"
   },
   "outputs": [
    {
     "data": {
      "text/plain": [
       "(0.0, 0.6514412298798561)"
      ]
     },
     "execution_count": 22,
     "metadata": {},
     "output_type": "execute_result"
    },
    {
     "data": {
      "image/png": "[encoded data removed]",
      "text/plain": [
       "<Figure size 1152x576 with 2 Axes>"
      ]
     },
     "metadata": {
      "needs_background": "light"
     },
     "output_type": "display_data"
    }
   ],
   "source": [
    "plt.figure(figsize=(16, 8))\n",
    "plt.subplot(1, 2, 1)\n",
    "plot_graphs(history, 'accuracy')\n",
    "plt.ylim(None, 1)\n",
    "plt.subplot(1, 2, 2)\n",
    "plot_graphs(history, 'loss')\n",
    "plt.ylim(0, None)"
   ]
  },
  {
   "cell_type": "markdown",
   "metadata": {
    "id": "DwSE_386uhxD"
   },
   "source": [
    "Run a prediction on a new sentence:\n",
    "\n",
    "If the prediction is >= 0.0, it is positive else it is negative."
   ]
  },
  {
   "cell_type": "code",
   "execution_count": 23,
   "metadata": {
    "execution": {
     "iopub.execute_input": "2021-11-02T15:56:24.540123Z",
     "iopub.status.busy": "2021-11-02T15:56:24.539499Z",
     "iopub.status.idle": "2021-11-02T15:56:26.502611Z",
     "shell.execute_reply": "2021-11-02T15:56:26.502044Z"
    },
    "id": "ZXgfQSgRW6zU"
   },
   "outputs": [],
   "source": [
    "sample_text = ('The movie was cool. The animation and the graphics '\n",
    "               'were out of this world. I would recommend this movie.')\n",
    "predictions = model.predict(np.array([sample_text]))"
   ]
  },
  {
   "cell_type": "markdown",
   "metadata": {
    "id": "7g1evcaRpTKm"
   },
   "source": [
    "## Stack two or more LSTM layers\n",
    "\n",
    "Keras recurrent layers have two available modes that are controlled by the `return_sequences` constructor argument:\n",
    "\n",
    "* If `False` it returns only the last output for each input sequence (a 2D tensor of shape (batch_size, output_features)). This is the default, used in the previous model.\n",
    "\n",
    "* If `True` the full sequences of successive outputs for each timestep is returned (a 3D tensor of shape `(batch_size, timesteps, output_features)`).\n",
    "\n",
    "Here is what the flow of information looks like with `return_sequences=True`:\n",
    "\n",
    "![layered_bidirectional](images/layered_bidirectional.png)"
   ]
  },
  {
   "cell_type": "markdown",
   "metadata": {
    "id": "wbSClCrG1z8l"
   },
   "source": [
    "The interesting thing about using an `RNN` with `return_sequences=True` is that the output still has 3-axes, like the input, so it can be passed to another RNN layer, like this:"
   ]
  },
  {
   "cell_type": "code",
   "execution_count": 24,
   "metadata": {
    "execution": {
     "iopub.execute_input": "2021-11-02T15:56:26.509313Z",
     "iopub.status.busy": "2021-11-02T15:56:26.508536Z",
     "iopub.status.idle": "2021-11-02T15:56:29.643331Z",
     "shell.execute_reply": "2021-11-02T15:56:29.642665Z"
    },
    "id": "jo1jjO3vn0jo"
   },
   "outputs": [],
   "source": [
    "model = tf.keras.Sequential([\n",
    "    encoder,\n",
    "    tf.keras.layers.Embedding(len(encoder.get_vocabulary()), 64, mask_zero=True),\n",
    "    tf.keras.layers.Bidirectional(tf.keras.layers.LSTM(64,  return_sequences=True)),\n",
    "    tf.keras.layers.Bidirectional(tf.keras.layers.LSTM(32)),\n",
    "    tf.keras.layers.Dense(64, activation='relu'),\n",
    "    tf.keras.layers.Dropout(0.5),\n",
    "    tf.keras.layers.Dense(1)\n",
    "])"
   ]
  },
  {
   "cell_type": "code",
   "execution_count": 25,
   "metadata": {
    "execution": {
     "iopub.execute_input": "2021-11-02T15:56:29.647221Z",
     "iopub.status.busy": "2021-11-02T15:56:29.646587Z",
     "iopub.status.idle": "2021-11-02T15:56:29.653319Z",
     "shell.execute_reply": "2021-11-02T15:56:29.653676Z"
    },
    "id": "hEPV5jVGp-is"
   },
   "outputs": [],
   "source": [
    "model.compile(loss=tf.keras.losses.BinaryCrossentropy(from_logits=True),\n",
    "              optimizer=tf.keras.optimizers.Adam(1e-4),\n",
    "              metrics=['accuracy'])"
   ]
  },
  {
   "cell_type": "code",
   "execution_count": 26,
   "metadata": {
    "execution": {
     "iopub.execute_input": "2021-11-02T15:56:29.658306Z",
     "iopub.status.busy": "2021-11-02T15:56:29.657641Z",
     "iopub.status.idle": "2021-11-02T16:05:39.623362Z",
     "shell.execute_reply": "2021-11-02T16:05:39.622731Z"
    },
    "id": "LeSE-YjdqAeN"
   },
   "outputs": [
    {
     "name": "stdout",
     "output_type": "stream",
     "text": [
      "Epoch 1/10\n",
      "391/391 [==============================] - 201s 445ms/step - loss: 0.6194 - accuracy: 0.5948 - val_loss: 0.4633 - val_accuracy: 0.8146\n",
      "Epoch 2/10\n",
      "391/391 [==============================] - 167s 427ms/step - loss: 0.3936 - accuracy: 0.8257 - val_loss: 0.3566 - val_accuracy: 0.8344\n",
      "Epoch 3/10\n",
      "391/391 [==============================] - 154s 394ms/step - loss: 0.3428 - accuracy: 0.8496 - val_loss: 0.3382 - val_accuracy: 0.8604\n",
      "Epoch 4/10\n",
      "391/391 [==============================] - 167s 426ms/step - loss: 0.3243 - accuracy: 0.8611 - val_loss: 0.3211 - val_accuracy: 0.8594\n",
      "Epoch 5/10\n",
      "391/391 [==============================] - 165s 422ms/step - loss: 0.3145 - accuracy: 0.8649 - val_loss: 0.3232 - val_accuracy: 0.8609\n",
      "Epoch 6/10\n",
      "391/391 [==============================] - 174s 444ms/step - loss: 0.3098 - accuracy: 0.8685 - val_loss: 0.3165 - val_accuracy: 0.8583\n",
      "Epoch 7/10\n",
      "391/391 [==============================] - 166s 425ms/step - loss: 0.3063 - accuracy: 0.8666 - val_loss: 0.3212 - val_accuracy: 0.8453\n",
      "Epoch 8/10\n",
      "391/391 [==============================] - 154s 392ms/step - loss: 0.3035 - accuracy: 0.8683 - val_loss: 0.3213 - val_accuracy: 0.8443\n",
      "Epoch 9/10\n",
      "391/391 [==============================] - 170s 434ms/step - loss: 0.3027 - accuracy: 0.8702 - val_loss: 0.3155 - val_accuracy: 0.8516\n",
      "Epoch 10/10\n",
      "391/391 [==============================] - 160s 410ms/step - loss: 0.2991 - accuracy: 0.8702 - val_loss: 0.3233 - val_accuracy: 0.8578\n"
     ]
    }
   ],
   "source": [
    "history = model.fit(train_dataset, epochs=10,\n",
    "                    validation_data=test_dataset,\n",
    "                    validation_steps=30)"
   ]
  },
  {
   "cell_type": "code",
   "execution_count": 27,
   "metadata": {
    "execution": {
     "iopub.execute_input": "2021-11-02T16:05:39.628681Z",
     "iopub.status.busy": "2021-11-02T16:05:39.627978Z",
     "iopub.status.idle": "2021-11-02T16:06:05.529389Z",
     "shell.execute_reply": "2021-11-02T16:06:05.528860Z"
    },
    "id": "_LdwilM1qPM3"
   },
   "outputs": [
    {
     "name": "stdout",
     "output_type": "stream",
     "text": [
      "391/391 [==============================] - 58s 147ms/step - loss: 0.3215 - accuracy: 0.8596\n",
      "Test Loss: 0.32147327065467834\n",
      "Test Accuracy: 0.8595600128173828\n"
     ]
    }
   ],
   "source": [
    "test_loss, test_acc = model.evaluate(test_dataset)\n",
    "\n",
    "print('Test Loss:', test_loss)\n",
    "print('Test Accuracy:', test_acc)"
   ]
  },
  {
   "cell_type": "code",
   "execution_count": 33,
   "metadata": {
    "execution": {
     "iopub.execute_input": "2021-11-02T16:06:05.533990Z",
     "iopub.status.busy": "2021-11-02T16:06:05.533409Z",
     "iopub.status.idle": "2021-11-02T16:06:09.200328Z",
     "shell.execute_reply": "2021-11-02T16:06:09.199826Z"
    },
    "id": "ykUKnAoqbycW"
   },
   "outputs": [
    {
     "name": "stdout",
     "output_type": "stream",
     "text": [
      "[[-0.11051828]]\n"
     ]
    }
   ],
   "source": [
    "# predict on a sample text without padding.\n",
    "\n",
    "# sample_text = ('The movie was not good. The animation and the graphics '\n",
    "#                'were terrible. I would not recommend this movie.')\n",
    "sample_text = ('The movie was good. The animation and the graphics '\n",
    "               'were bad. I would recommend beautiful this movie.')\n",
    "predictions = model.predict(np.array([sample_text]))\n",
    "print(predictions)"
   ]
  },
  {
   "cell_type": "code",
   "execution_count": 29,
   "metadata": {
    "execution": {
     "iopub.execute_input": "2021-11-02T16:06:09.257308Z",
     "iopub.status.busy": "2021-11-02T16:06:09.244756Z",
     "iopub.status.idle": "2021-11-02T16:06:09.481357Z",
     "shell.execute_reply": "2021-11-02T16:06:09.480751Z"
    },
    "id": "_YYub0EDtwCu"
   },
   "outputs": [
    {
     "data": {
      "image/png": "[encoded data removed]",
      "text/plain": [
       "<Figure size 1152x432 with 2 Axes>"
      ]
     },
     "metadata": {
      "needs_background": "light"
     },
     "output_type": "display_data"
    }
   ],
   "source": [
    "plt.figure(figsize=(16, 6))\n",
    "plt.subplot(1, 2, 1)\n",
    "plot_graphs(history, 'accuracy')\n",
    "plt.subplot(1, 2, 2)\n",
    "plot_graphs(history, 'loss')"
   ]
  },
  {
   "cell_type": "markdown",
   "metadata": {
    "id": "9xvpE3BaGw_V"
   },
   "source": [
    "Check out other existing recurrent layers such as [GRU layers](https://www.tensorflow.org/api_docs/python/tf/keras/layers/GRU).\n",
    "\n",
    "If you're interestied in building custom RNNs, see the [Keras RNN Guide](https://www.tensorflow.org/guide/keras/rnn).\n"
   ]
  }
 ],
 "metadata": {
  "accelerator": "GPU",
  "colab": {
   "collapsed_sections": [],
   "name": "text_classification_rnn.ipynb",
   "provenance": [],
   "toc_visible": true
  },
  "kernelspec": {
   "display_name": "Python 3",
   "name": "python3"
  },
  "language_info": {
   "codemirror_mode": {
    "name": "ipython",
    "version": 3
   },
   "file_extension": ".py",
   "mimetype": "text/x-python",
   "name": "python",
   "nbconvert_exporter": "python",
   "pygments_lexer": "ipython3",
   "version": "3.10.4"
  }
 },
 "nbformat": 4,
 "nbformat_minor": 0
}
